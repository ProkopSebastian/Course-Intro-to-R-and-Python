{
 "cells": [
  {
   "cell_type": "markdown",
   "metadata": {},
   "source": [
    "# PDPRPy\n",
    "## Praca Domowa nr 1\n",
    "#### Sebastian Prokop\n",
    "#### 2024-04-02 2"
   ]
  },
  {
   "cell_type": "markdown",
   "metadata": {},
   "source": [
    "### Pobranie importów i wczytanie danych"
   ]
  },
  {
   "cell_type": "code",
   "execution_count": 1,
   "metadata": {},
   "outputs": [],
   "source": [
    "# Pobranie potrzebnych importów\n",
    "import pandas as pd\n",
    "import os\n",
    "import sqlite3"
   ]
  },
  {
   "cell_type": "code",
   "execution_count": 2,
   "metadata": {},
   "outputs": [],
   "source": [
    "# Wczytanie danych\n",
    "Posts = pd.read_csv(\"data/Posts.csv.gz\", compression = 'gzip')\n",
    "Comments = pd.read_csv(\"data/Comments.csv.gz\", compression = 'gzip')\n",
    "PostLinks = pd.read_csv(\"data/PostLinks.csv.gz\", compression = 'gzip')\n",
    "Users = pd.read_csv(\"data/Users.csv.gz\", compression = 'gzip')"
   ]
  },
  {
   "cell_type": "markdown",
   "metadata": {},
   "source": [
    "### Połączenie z bazą danych"
   ]
  },
  {
   "cell_type": "code",
   "execution_count": 3,
   "metadata": {},
   "outputs": [
    {
     "data": {
      "text/plain": [
       "121599"
      ]
     },
     "execution_count": 3,
     "metadata": {},
     "output_type": "execute_result"
    }
   ],
   "source": [
    "# Każdą z ramek danych należy wyeksportować do bazy danych SQLite przy użyciu wywołania metody to_sql()\n",
    "# w klasie pandas.DataFrame.\n",
    "\n",
    "baza = os.path.join('stackexchangeDB.db')\n",
    "if os.path.isfile(baza): # jesli baza już istneje\n",
    "    os.remove(baza) # usuniemy ja zeby miec zaczac z czystą kartą\n",
    "\n",
    "conn = sqlite3.connect(baza) \n",
    "Users.to_sql(\"Users\", conn)\n",
    "Comments.to_sql(\"Comments\", conn)\n",
    "PostLinks.to_sql(\"PostLinks\", conn)\n",
    "Posts.to_sql(\"Posts\", conn)"
   ]
  },
  {
   "cell_type": "markdown",
   "metadata": {},
   "source": [
    "### Wczytaj wszystkie zapytania SQL"
   ]
  },
  {
   "cell_type": "code",
   "execution_count": 4,
   "metadata": {},
   "outputs": [],
   "source": [
    "sql1 = '''SELECT Location, COUNT(*) AS Count\n",
    "FROM (\n",
    "SELECT Posts.OwnerUserId, Users.Id, Users.Location\n",
    "FROM Users\n",
    "JOIN Posts ON Users.Id = Posts.OwnerUserId\n",
    ")\n",
    "WHERE Location NOT IN ('')\n",
    "GROUP BY Location\n",
    "ORDER BY Count DESC\n",
    "LIMIT 10\n",
    "'''\n",
    "\n",
    "sql2 = '''SELECT Posts.Title, RelatedTab.NumLinks\n",
    "FROM\n",
    "(\n",
    "SELECT RelatedPostId AS PostId, COUNT(*) AS NumLinks\n",
    "FROM PostLinks\n",
    "GROUP BY RelatedPostId\n",
    ") AS RelatedTab\n",
    "JOIN Posts ON RelatedTab.PostId=Posts.Id\n",
    "WHERE Posts.PostTypeId=1\n",
    "ORDER BY NumLinks DESC'''\n",
    "\n",
    "sql3 = '''SELECT Title, CommentCount, ViewCount, CommentsTotalScore,\n",
    "DisplayName, Reputation, Location\n",
    "FROM (\n",
    "SELECT Posts.OwnerUserId, Posts.Title, Posts.CommentCount, Posts.ViewCount,\n",
    "CmtTotScr.CommentsTotalScore\n",
    "FROM (\n",
    "SELECT PostId, SUM(Score) AS CommentsTotalScore\n",
    "FROM Comments\n",
    "GROUP BY PostId\n",
    ") AS CmtTotScr\n",
    "JOIN Posts ON Posts.Id = CmtTotScr.PostId\n",
    "WHERE Posts.PostTypeId=1\n",
    ") AS PostsBestComments\n",
    "JOIN Users ON PostsBestComments.OwnerUserId = Users.Id\n",
    "ORDER BY CommentsTotalScore DESC\n",
    "LIMIT 10'''\n",
    "\n",
    "sql4 = '''SELECT DisplayName, QuestionsNumber, AnswersNumber, Location,\n",
    "Reputation, UpVotes, DownVotes\n",
    "FROM (\n",
    "SELECT *\n",
    "FROM (\n",
    "SELECT COUNT(*) as AnswersNumber, OwnerUserId\n",
    "FROM Posts\n",
    "WHERE PostTypeId = 2\n",
    "GROUP BY OwnerUserId\n",
    ") AS Answers\n",
    "JOIN\n",
    "(\n",
    "SELECT COUNT(*) as QuestionsNumber, OwnerUserId\n",
    "FROM Posts\n",
    "WHERE PostTypeId = 1\n",
    "GROUP BY OwnerUserId\n",
    ") AS Questions\n",
    "ON Answers.OwnerUserId = Questions.OwnerUserId\n",
    "WHERE AnswersNumber > QuestionsNumber\n",
    "ORDER BY AnswersNumber DESC\n",
    "LIMIT 5\n",
    ") AS PostsCounts\n",
    "JOIN Users ON PostsCounts.OwnerUserId = Users.Id'''\n",
    "\n",
    "sql5 = '''SELECT\n",
    "Users.AccountId,\n",
    "Users.DisplayName,\n",
    "Users.Location,\n",
    "AVG(PostAuth.AnswersCount) as AverageAnswersCount\n",
    "FROM\n",
    "(\n",
    "SELECT\n",
    "AnsCount.AnswersCount,\n",
    "Posts.Id,\n",
    "Posts.OwnerUserId\n",
    "FROM (\n",
    "SELECT Posts.ParentId, COUNT(*) AS AnswersCount\n",
    "FROM Posts\n",
    "WHERE Posts.PostTypeId = 2\n",
    "GROUP BY Posts.ParentId\n",
    ") AS AnsCount\n",
    "JOIN Posts ON Posts.Id = AnsCount.ParentId\n",
    ") AS PostAuth\n",
    "JOIN Users ON Users.AccountId=PostAuth.OwnerUserId\n",
    "GROUP BY OwnerUserId\n",
    "ORDER BY AverageAnswersCount DESC\n",
    "LIMIT 10\n",
    "'''\n",
    "\n",
    "sql3_truncated = '''SELECT Title, CommentCount, ViewCount, CommentsTotalScore,\n",
    "DisplayName, Reputation, Location\n",
    "FROM (\n",
    "SELECT Posts.OwnerUserId, Posts.Title, Posts.CommentCount, Posts.ViewCount,\n",
    "CmtTotScr.CommentsTotalScore\n",
    "FROM (\n",
    "SELECT PostId, SUM(Score) AS CommentsTotalScore\n",
    "FROM Comments\n",
    "GROUP BY PostId\n",
    ") AS CmtTotScr\n",
    "JOIN Posts ON Posts.Id = CmtTotScr.PostId\n",
    "WHERE Posts.PostTypeId=1\n",
    ") AS PostsBestComments\n",
    "JOIN Users ON PostsBestComments.OwnerUserId = Users.Id\n",
    "ORDER BY CommentsTotalScore DESC'''\n",
    "\n",
    "sql2_part1 = '''\n",
    "SELECT RelatedPostId AS PostId, COUNT(*) AS NumLinks\n",
    "FROM PostLinks\n",
    "GROUP BY RelatedPostId\n",
    "'''\n",
    "\n",
    "sql2_part2 = '''SELECT Posts.Title, RelatedTab.NumLinks\n",
    "FROM RelatedTab\n",
    "JOIN Posts ON RelatedTab.PostId=Posts.Id\n",
    "WHERE Posts.PostTypeId=1\n",
    "ORDER BY NumLinks DESC'''\n"
   ]
  },
  {
   "cell_type": "markdown",
   "metadata": {},
   "source": [
    "### Zrealizuj zapytania SQL"
   ]
  },
  {
   "cell_type": "code",
   "execution_count": 5,
   "metadata": {},
   "outputs": [
    {
     "data": {
      "text/html": [
       "<div>\n",
       "<style scoped>\n",
       "    .dataframe tbody tr th:only-of-type {\n",
       "        vertical-align: middle;\n",
       "    }\n",
       "\n",
       "    .dataframe tbody tr th {\n",
       "        vertical-align: top;\n",
       "    }\n",
       "\n",
       "    .dataframe thead th {\n",
       "        text-align: right;\n",
       "    }\n",
       "</style>\n",
       "<table border=\"1\" class=\"dataframe\">\n",
       "  <thead>\n",
       "    <tr style=\"text-align: right;\">\n",
       "      <th></th>\n",
       "      <th>Location</th>\n",
       "      <th>Count</th>\n",
       "    </tr>\n",
       "  </thead>\n",
       "  <tbody>\n",
       "    <tr>\n",
       "      <th>0</th>\n",
       "      <td>Christchurch, New Zealand</td>\n",
       "      <td>2795</td>\n",
       "    </tr>\n",
       "    <tr>\n",
       "      <th>1</th>\n",
       "      <td>New York, NY</td>\n",
       "      <td>1872</td>\n",
       "    </tr>\n",
       "    <tr>\n",
       "      <th>2</th>\n",
       "      <td>London, United Kingdom</td>\n",
       "      <td>1711</td>\n",
       "    </tr>\n",
       "    <tr>\n",
       "      <th>3</th>\n",
       "      <td>UK</td>\n",
       "      <td>1707</td>\n",
       "    </tr>\n",
       "    <tr>\n",
       "      <th>4</th>\n",
       "      <td>Sunshine Coast QLD, Australia</td>\n",
       "      <td>1558</td>\n",
       "    </tr>\n",
       "    <tr>\n",
       "      <th>5</th>\n",
       "      <td>Australia</td>\n",
       "      <td>1199</td>\n",
       "    </tr>\n",
       "    <tr>\n",
       "      <th>6</th>\n",
       "      <td>Seat 21A</td>\n",
       "      <td>1056</td>\n",
       "    </tr>\n",
       "    <tr>\n",
       "      <th>7</th>\n",
       "      <td>Vancouver, Canada</td>\n",
       "      <td>1051</td>\n",
       "    </tr>\n",
       "    <tr>\n",
       "      <th>8</th>\n",
       "      <td>Netherlands</td>\n",
       "      <td>1013</td>\n",
       "    </tr>\n",
       "    <tr>\n",
       "      <th>9</th>\n",
       "      <td>London, UK</td>\n",
       "      <td>947</td>\n",
       "    </tr>\n",
       "  </tbody>\n",
       "</table>\n",
       "</div>"
      ],
      "text/plain": [
       "                        Location  Count\n",
       "0      Christchurch, New Zealand   2795\n",
       "1                   New York, NY   1872\n",
       "2         London, United Kingdom   1711\n",
       "3                             UK   1707\n",
       "4  Sunshine Coast QLD, Australia   1558\n",
       "5                      Australia   1199\n",
       "6                       Seat 21A   1056\n",
       "7              Vancouver, Canada   1051\n",
       "8                    Netherlands   1013\n",
       "9                     London, UK    947"
      ]
     },
     "execution_count": 5,
     "metadata": {},
     "output_type": "execute_result"
    }
   ],
   "source": [
    "# Działa w mniej niż sekundę\n",
    "ans1 = pd.read_sql_query(sql1, conn)\n",
    "ans1"
   ]
  },
  {
   "cell_type": "code",
   "execution_count": 6,
   "metadata": {},
   "outputs": [
    {
     "data": {
      "text/html": [
       "<div>\n",
       "<style scoped>\n",
       "    .dataframe tbody tr th:only-of-type {\n",
       "        vertical-align: middle;\n",
       "    }\n",
       "\n",
       "    .dataframe tbody tr th {\n",
       "        vertical-align: top;\n",
       "    }\n",
       "\n",
       "    .dataframe thead th {\n",
       "        text-align: right;\n",
       "    }\n",
       "</style>\n",
       "<table border=\"1\" class=\"dataframe\">\n",
       "  <thead>\n",
       "    <tr style=\"text-align: right;\">\n",
       "      <th></th>\n",
       "      <th>Title</th>\n",
       "      <th>NumLinks</th>\n",
       "    </tr>\n",
       "  </thead>\n",
       "  <tbody>\n",
       "    <tr>\n",
       "      <th>0</th>\n",
       "      <td>Is there a way to find out if I need a transit...</td>\n",
       "      <td>1157</td>\n",
       "    </tr>\n",
       "    <tr>\n",
       "      <th>1</th>\n",
       "      <td>Do I need a visa to transit (or layover) in th...</td>\n",
       "      <td>1012</td>\n",
       "    </tr>\n",
       "    <tr>\n",
       "      <th>2</th>\n",
       "      <td>Should I submit bank statements when applying ...</td>\n",
       "      <td>669</td>\n",
       "    </tr>\n",
       "    <tr>\n",
       "      <th>3</th>\n",
       "      <td>UK visa refusal on V 4.2 a + c (and sometimes ...</td>\n",
       "      <td>523</td>\n",
       "    </tr>\n",
       "    <tr>\n",
       "      <th>4</th>\n",
       "      <td>Should my first trip be to the country which i...</td>\n",
       "      <td>461</td>\n",
       "    </tr>\n",
       "    <tr>\n",
       "      <th>...</th>\n",
       "      <td>...</td>\n",
       "      <td>...</td>\n",
       "    </tr>\n",
       "    <tr>\n",
       "      <th>8094</th>\n",
       "      <td>Why can't I reserve a seat on the Eurocity tra...</td>\n",
       "      <td>1</td>\n",
       "    </tr>\n",
       "    <tr>\n",
       "      <th>8095</th>\n",
       "      <td>Independent Research in the US under B1 visa</td>\n",
       "      <td>1</td>\n",
       "    </tr>\n",
       "    <tr>\n",
       "      <th>8096</th>\n",
       "      <td>2 round tickets plus 1 back ticket to Thailand</td>\n",
       "      <td>1</td>\n",
       "    </tr>\n",
       "    <tr>\n",
       "      <th>8097</th>\n",
       "      <td>Which flight search engines show the flight op...</td>\n",
       "      <td>1</td>\n",
       "    </tr>\n",
       "    <tr>\n",
       "      <th>8098</th>\n",
       "      <td>Does bought duty-free count towards cabin lugg...</td>\n",
       "      <td>1</td>\n",
       "    </tr>\n",
       "  </tbody>\n",
       "</table>\n",
       "<p>8099 rows × 2 columns</p>\n",
       "</div>"
      ],
      "text/plain": [
       "                                                  Title  NumLinks\n",
       "0     Is there a way to find out if I need a transit...      1157\n",
       "1     Do I need a visa to transit (or layover) in th...      1012\n",
       "2     Should I submit bank statements when applying ...       669\n",
       "3     UK visa refusal on V 4.2 a + c (and sometimes ...       523\n",
       "4     Should my first trip be to the country which i...       461\n",
       "...                                                 ...       ...\n",
       "8094  Why can't I reserve a seat on the Eurocity tra...         1\n",
       "8095       Independent Research in the US under B1 visa         1\n",
       "8096     2 round tickets plus 1 back ticket to Thailand         1\n",
       "8097  Which flight search engines show the flight op...         1\n",
       "8098  Does bought duty-free count towards cabin lugg...         1\n",
       "\n",
       "[8099 rows x 2 columns]"
      ]
     },
     "execution_count": 6,
     "metadata": {},
     "output_type": "execute_result"
    }
   ],
   "source": [
    "# Zostawiłem na 15 minut ale nadal się nie wykonało\n",
    "# Żeby rozwiązać problem niekończącego się wywołania rozbijam \n",
    "# kwerendę na dwie części. W ten sposób wykonało się w 0.2s\n",
    "ans2 = pd.read_sql_query(sql2_part1, conn)\n",
    "ans2.to_sql(name = \"RelatedTab\", con = conn, index = False)\n",
    "ans2 = pd.read_sql_query(sql2_part2, conn)\n",
    "ans2"
   ]
  },
  {
   "cell_type": "code",
   "execution_count": 7,
   "metadata": {},
   "outputs": [
    {
     "data": {
      "text/html": [
       "<div>\n",
       "<style scoped>\n",
       "    .dataframe tbody tr th:only-of-type {\n",
       "        vertical-align: middle;\n",
       "    }\n",
       "\n",
       "    .dataframe tbody tr th {\n",
       "        vertical-align: top;\n",
       "    }\n",
       "\n",
       "    .dataframe thead th {\n",
       "        text-align: right;\n",
       "    }\n",
       "</style>\n",
       "<table border=\"1\" class=\"dataframe\">\n",
       "  <thead>\n",
       "    <tr style=\"text-align: right;\">\n",
       "      <th></th>\n",
       "      <th>Title</th>\n",
       "      <th>CommentCount</th>\n",
       "      <th>ViewCount</th>\n",
       "      <th>CommentsTotalScore</th>\n",
       "      <th>DisplayName</th>\n",
       "      <th>Reputation</th>\n",
       "      <th>Location</th>\n",
       "    </tr>\n",
       "  </thead>\n",
       "  <tbody>\n",
       "    <tr>\n",
       "      <th>0</th>\n",
       "      <td>Boss is asking for passport, but it has a stam...</td>\n",
       "      <td>24</td>\n",
       "      <td>61309.0</td>\n",
       "      <td>630</td>\n",
       "      <td>Megha</td>\n",
       "      <td>1679</td>\n",
       "      <td>None</td>\n",
       "    </tr>\n",
       "    <tr>\n",
       "      <th>1</th>\n",
       "      <td>How to intentionally get denied entry to the U...</td>\n",
       "      <td>37</td>\n",
       "      <td>72856.0</td>\n",
       "      <td>618</td>\n",
       "      <td>user11743</td>\n",
       "      <td>1997</td>\n",
       "      <td>None</td>\n",
       "    </tr>\n",
       "    <tr>\n",
       "      <th>2</th>\n",
       "      <td>Can I wear a bulletproof vest while traveling ...</td>\n",
       "      <td>26</td>\n",
       "      <td>23467.0</td>\n",
       "      <td>403</td>\n",
       "      <td>Ulkoma</td>\n",
       "      <td>9190</td>\n",
       "      <td>London, United Kingdom</td>\n",
       "    </tr>\n",
       "    <tr>\n",
       "      <th>3</th>\n",
       "      <td>OK we're all adults here, so really, how on ea...</td>\n",
       "      <td>29</td>\n",
       "      <td>113001.0</td>\n",
       "      <td>388</td>\n",
       "      <td>hippietrail</td>\n",
       "      <td>75994</td>\n",
       "      <td>Sunshine Coast QLD, Australia</td>\n",
       "    </tr>\n",
       "    <tr>\n",
       "      <th>4</th>\n",
       "      <td>Being separated from one's young children on a...</td>\n",
       "      <td>36</td>\n",
       "      <td>14308.0</td>\n",
       "      <td>358</td>\n",
       "      <td>Emma-louise</td>\n",
       "      <td>611</td>\n",
       "      <td>None</td>\n",
       "    </tr>\n",
       "    <tr>\n",
       "      <th>5</th>\n",
       "      <td>Immigration officer that stopped me at the air...</td>\n",
       "      <td>24</td>\n",
       "      <td>22495.0</td>\n",
       "      <td>345</td>\n",
       "      <td>DiegoJ</td>\n",
       "      <td>1273</td>\n",
       "      <td>Buenos Aires</td>\n",
       "    </tr>\n",
       "    <tr>\n",
       "      <th>6</th>\n",
       "      <td>How to avoid toddlers on a long-distance plane...</td>\n",
       "      <td>18</td>\n",
       "      <td>29344.0</td>\n",
       "      <td>343</td>\n",
       "      <td>Silver Dragon</td>\n",
       "      <td>943</td>\n",
       "      <td>San Francisco, United States</td>\n",
       "    </tr>\n",
       "    <tr>\n",
       "      <th>7</th>\n",
       "      <td>Can I fly with a gold bar?</td>\n",
       "      <td>25</td>\n",
       "      <td>55450.0</td>\n",
       "      <td>333</td>\n",
       "      <td>Ulkoma</td>\n",
       "      <td>9190</td>\n",
       "      <td>London, United Kingdom</td>\n",
       "    </tr>\n",
       "    <tr>\n",
       "      <th>8</th>\n",
       "      <td>How to book a flight if my passport doesn't st...</td>\n",
       "      <td>23</td>\n",
       "      <td>18029.0</td>\n",
       "      <td>330</td>\n",
       "      <td>kukis</td>\n",
       "      <td>894</td>\n",
       "      <td>Sztokholm, Szwecja</td>\n",
       "    </tr>\n",
       "    <tr>\n",
       "      <th>9</th>\n",
       "      <td>Why don't airlines have backup planes just in ...</td>\n",
       "      <td>26</td>\n",
       "      <td>18809.0</td>\n",
       "      <td>328</td>\n",
       "      <td>clickbait</td>\n",
       "      <td>542</td>\n",
       "      <td>None</td>\n",
       "    </tr>\n",
       "  </tbody>\n",
       "</table>\n",
       "</div>"
      ],
      "text/plain": [
       "                                               Title  CommentCount  ViewCount  \\\n",
       "0  Boss is asking for passport, but it has a stam...            24    61309.0   \n",
       "1  How to intentionally get denied entry to the U...            37    72856.0   \n",
       "2  Can I wear a bulletproof vest while traveling ...            26    23467.0   \n",
       "3  OK we're all adults here, so really, how on ea...            29   113001.0   \n",
       "4  Being separated from one's young children on a...            36    14308.0   \n",
       "5  Immigration officer that stopped me at the air...            24    22495.0   \n",
       "6  How to avoid toddlers on a long-distance plane...            18    29344.0   \n",
       "7                         Can I fly with a gold bar?            25    55450.0   \n",
       "8  How to book a flight if my passport doesn't st...            23    18029.0   \n",
       "9  Why don't airlines have backup planes just in ...            26    18809.0   \n",
       "\n",
       "   CommentsTotalScore    DisplayName  Reputation  \\\n",
       "0                 630          Megha        1679   \n",
       "1                 618      user11743        1997   \n",
       "2                 403         Ulkoma        9190   \n",
       "3                 388    hippietrail       75994   \n",
       "4                 358    Emma-louise         611   \n",
       "5                 345         DiegoJ        1273   \n",
       "6                 343  Silver Dragon         943   \n",
       "7                 333         Ulkoma        9190   \n",
       "8                 330          kukis         894   \n",
       "9                 328      clickbait         542   \n",
       "\n",
       "                        Location  \n",
       "0                           None  \n",
       "1                           None  \n",
       "2         London, United Kingdom  \n",
       "3  Sunshine Coast QLD, Australia  \n",
       "4                           None  \n",
       "5                   Buenos Aires  \n",
       "6   San Francisco, United States  \n",
       "7         London, United Kingdom  \n",
       "8             Sztokholm, Szwecja  \n",
       "9                           None  "
      ]
     },
     "execution_count": 7,
     "metadata": {},
     "output_type": "execute_result"
    }
   ],
   "source": [
    "# Z zapytaniem 3 problem jest taki, że się nie kończy w podstawowej wersji.\n",
    "# Żeby rozwiązać ten problem należy najpierw wykonać zapytanie z pominięciem\n",
    "# ostatniej linii:\n",
    "# LIMIT 10\n",
    "# zapisać wynik do bazy danych, jako nową tabelę po czym z nowej tabeli \n",
    "# pobrać pierwsze 10 wierszy\n",
    "\n",
    "ans3 = pd.read_sql_query(sql3_truncated, conn)\n",
    "ans3.to_sql(name = \"tempTable\", con = conn, index = False) # Żeby nie dodawać kolumny nowej index=False\n",
    "ans3 = pd.read_sql_query(\"SELECT * FROM tempTable LIMIT 10\", conn)\n",
    "ans3"
   ]
  },
  {
   "cell_type": "code",
   "execution_count": 8,
   "metadata": {},
   "outputs": [
    {
     "data": {
      "text/html": [
       "<div>\n",
       "<style scoped>\n",
       "    .dataframe tbody tr th:only-of-type {\n",
       "        vertical-align: middle;\n",
       "    }\n",
       "\n",
       "    .dataframe tbody tr th {\n",
       "        vertical-align: top;\n",
       "    }\n",
       "\n",
       "    .dataframe thead th {\n",
       "        text-align: right;\n",
       "    }\n",
       "</style>\n",
       "<table border=\"1\" class=\"dataframe\">\n",
       "  <thead>\n",
       "    <tr style=\"text-align: right;\">\n",
       "      <th></th>\n",
       "      <th>DisplayName</th>\n",
       "      <th>QuestionsNumber</th>\n",
       "      <th>AnswersNumber</th>\n",
       "      <th>Location</th>\n",
       "      <th>Reputation</th>\n",
       "      <th>UpVotes</th>\n",
       "      <th>DownVotes</th>\n",
       "    </tr>\n",
       "  </thead>\n",
       "  <tbody>\n",
       "    <tr>\n",
       "      <th>0</th>\n",
       "      <td>Mark Mayo</td>\n",
       "      <td>344</td>\n",
       "      <td>1968</td>\n",
       "      <td>Christchurch, New Zealand</td>\n",
       "      <td>157193</td>\n",
       "      <td>16082</td>\n",
       "      <td>1661</td>\n",
       "    </tr>\n",
       "    <tr>\n",
       "      <th>1</th>\n",
       "      <td>phoog</td>\n",
       "      <td>12</td>\n",
       "      <td>1690</td>\n",
       "      <td>New York, NY</td>\n",
       "      <td>120317</td>\n",
       "      <td>8767</td>\n",
       "      <td>567</td>\n",
       "    </tr>\n",
       "    <tr>\n",
       "      <th>2</th>\n",
       "      <td>Relaxed</td>\n",
       "      <td>8</td>\n",
       "      <td>1506</td>\n",
       "      <td>None</td>\n",
       "      <td>99185</td>\n",
       "      <td>11268</td>\n",
       "      <td>606</td>\n",
       "    </tr>\n",
       "    <tr>\n",
       "      <th>3</th>\n",
       "      <td>lambshaanxy</td>\n",
       "      <td>117</td>\n",
       "      <td>1466</td>\n",
       "      <td>None</td>\n",
       "      <td>98555</td>\n",
       "      <td>15021</td>\n",
       "      <td>275</td>\n",
       "    </tr>\n",
       "    <tr>\n",
       "      <th>4</th>\n",
       "      <td>Crazydre</td>\n",
       "      <td>172</td>\n",
       "      <td>1163</td>\n",
       "      <td>None</td>\n",
       "      <td>73180</td>\n",
       "      <td>2263</td>\n",
       "      <td>132</td>\n",
       "    </tr>\n",
       "  </tbody>\n",
       "</table>\n",
       "</div>"
      ],
      "text/plain": [
       "   DisplayName  QuestionsNumber  AnswersNumber                   Location  \\\n",
       "0    Mark Mayo              344           1968  Christchurch, New Zealand   \n",
       "1        phoog               12           1690               New York, NY   \n",
       "2      Relaxed                8           1506                       None   \n",
       "3  lambshaanxy              117           1466                       None   \n",
       "4     Crazydre              172           1163                       None   \n",
       "\n",
       "   Reputation  UpVotes  DownVotes  \n",
       "0      157193    16082       1661  \n",
       "1      120317     8767        567  \n",
       "2       99185    11268        606  \n",
       "3       98555    15021        275  \n",
       "4       73180     2263        132  "
      ]
     },
     "execution_count": 8,
     "metadata": {},
     "output_type": "execute_result"
    }
   ],
   "source": [
    "# Działa bardzo szybko\n",
    "ans4 = pd.read_sql_query(sql4, conn)\n",
    "ans4"
   ]
  },
  {
   "cell_type": "code",
   "execution_count": 9,
   "metadata": {},
   "outputs": [
    {
     "data": {
      "text/html": [
       "<div>\n",
       "<style scoped>\n",
       "    .dataframe tbody tr th:only-of-type {\n",
       "        vertical-align: middle;\n",
       "    }\n",
       "\n",
       "    .dataframe tbody tr th {\n",
       "        vertical-align: top;\n",
       "    }\n",
       "\n",
       "    .dataframe thead th {\n",
       "        text-align: right;\n",
       "    }\n",
       "</style>\n",
       "<table border=\"1\" class=\"dataframe\">\n",
       "  <thead>\n",
       "    <tr style=\"text-align: right;\">\n",
       "      <th></th>\n",
       "      <th>AccountId</th>\n",
       "      <th>DisplayName</th>\n",
       "      <th>Location</th>\n",
       "      <th>AverageAnswersCount</th>\n",
       "    </tr>\n",
       "  </thead>\n",
       "  <tbody>\n",
       "    <tr>\n",
       "      <th>0</th>\n",
       "      <td>40811.0</td>\n",
       "      <td>vocaro</td>\n",
       "      <td>San Jose, CA</td>\n",
       "      <td>11.0</td>\n",
       "    </tr>\n",
       "    <tr>\n",
       "      <th>1</th>\n",
       "      <td>280.0</td>\n",
       "      <td>csmba</td>\n",
       "      <td>San Francisco, CA</td>\n",
       "      <td>11.0</td>\n",
       "    </tr>\n",
       "    <tr>\n",
       "      <th>2</th>\n",
       "      <td>44093.0</td>\n",
       "      <td>Emma Arbogast</td>\n",
       "      <td>Salem, OR</td>\n",
       "      <td>10.0</td>\n",
       "    </tr>\n",
       "    <tr>\n",
       "      <th>3</th>\n",
       "      <td>204.0</td>\n",
       "      <td>Josh</td>\n",
       "      <td>Australia</td>\n",
       "      <td>10.0</td>\n",
       "    </tr>\n",
       "    <tr>\n",
       "      <th>4</th>\n",
       "      <td>11758.0</td>\n",
       "      <td>rvarcher</td>\n",
       "      <td>Oklahoma City, OK</td>\n",
       "      <td>9.0</td>\n",
       "    </tr>\n",
       "    <tr>\n",
       "      <th>5</th>\n",
       "      <td>79346.0</td>\n",
       "      <td>Thomas Matthews</td>\n",
       "      <td>California</td>\n",
       "      <td>8.0</td>\n",
       "    </tr>\n",
       "    <tr>\n",
       "      <th>6</th>\n",
       "      <td>54571.0</td>\n",
       "      <td>Christian</td>\n",
       "      <td>None</td>\n",
       "      <td>8.0</td>\n",
       "    </tr>\n",
       "    <tr>\n",
       "      <th>7</th>\n",
       "      <td>42364.0</td>\n",
       "      <td>Petrogad</td>\n",
       "      <td>None</td>\n",
       "      <td>8.0</td>\n",
       "    </tr>\n",
       "    <tr>\n",
       "      <th>8</th>\n",
       "      <td>20473.0</td>\n",
       "      <td>Jeremy Boyd</td>\n",
       "      <td>Houston, TX</td>\n",
       "      <td>8.0</td>\n",
       "    </tr>\n",
       "    <tr>\n",
       "      <th>9</th>\n",
       "      <td>19588.0</td>\n",
       "      <td>JD Isaacks</td>\n",
       "      <td>Atlanta, GA</td>\n",
       "      <td>8.0</td>\n",
       "    </tr>\n",
       "  </tbody>\n",
       "</table>\n",
       "</div>"
      ],
      "text/plain": [
       "   AccountId      DisplayName           Location  AverageAnswersCount\n",
       "0    40811.0           vocaro       San Jose, CA                 11.0\n",
       "1      280.0            csmba  San Francisco, CA                 11.0\n",
       "2    44093.0    Emma Arbogast          Salem, OR                 10.0\n",
       "3      204.0             Josh          Australia                 10.0\n",
       "4    11758.0         rvarcher  Oklahoma City, OK                  9.0\n",
       "5    79346.0  Thomas Matthews         California                  8.0\n",
       "6    54571.0        Christian               None                  8.0\n",
       "7    42364.0         Petrogad               None                  8.0\n",
       "8    20473.0      Jeremy Boyd        Houston, TX                  8.0\n",
       "9    19588.0       JD Isaacks        Atlanta, GA                  8.0"
      ]
     },
     "execution_count": 9,
     "metadata": {},
     "output_type": "execute_result"
    }
   ],
   "source": [
    "# Działa bardzo szybko\n",
    "ans5 = pd.read_sql_query(sql5, conn)\n",
    "ans5"
   ]
  },
  {
   "cell_type": "markdown",
   "metadata": {},
   "source": [
    "### Zamknięcie połączenia z bazą danych"
   ]
  },
  {
   "cell_type": "code",
   "execution_count": 10,
   "metadata": {},
   "outputs": [],
   "source": [
    "conn.close()"
   ]
  },
  {
   "cell_type": "markdown",
   "metadata": {},
   "source": [
    "## Realizacja zapytań za pomocą \"zwykłych\" metod i funkcji pakietu pandas"
   ]
  },
  {
   "cell_type": "markdown",
   "metadata": {},
   "source": [
    "### Wgranie pliku z rozwiązaniami"
   ]
  },
  {
   "cell_type": "code",
   "execution_count": 11,
   "metadata": {},
   "outputs": [],
   "source": [
    "from Sebastian_Prokop_PD2 import *"
   ]
  },
  {
   "cell_type": "markdown",
   "metadata": {},
   "source": [
    "### Zadanie 1"
   ]
  },
  {
   "cell_type": "code",
   "execution_count": 12,
   "metadata": {},
   "outputs": [
    {
     "data": {
      "text/plain": [
       "True"
      ]
     },
     "execution_count": 12,
     "metadata": {},
     "output_type": "execute_result"
    }
   ],
   "source": [
    "# Rozwiązanie z pliku\n",
    "sol1 = solution_1(Posts, Users)\n",
    "\n",
    "# Porównanie wyników\n",
    "ans1.equals(sol1)"
   ]
  },
  {
   "cell_type": "markdown",
   "metadata": {},
   "source": [
    "### Zadanie 2"
   ]
  },
  {
   "cell_type": "code",
   "execution_count": 13,
   "metadata": {},
   "outputs": [
    {
     "data": {
      "text/plain": [
       "True"
      ]
     },
     "execution_count": 13,
     "metadata": {},
     "output_type": "execute_result"
    }
   ],
   "source": [
    "sol2 = solution_2(Posts, PostLinks)\n",
    "\n",
    "# Żeby poradzić sobie z dziwnym sortowaniem z SQL - jeszcze jedno sortowanie wyniku\n",
    "ans2 = ans2.sort_values(by = ['NumLinks', 'Title'], ascending = [False, True])\n",
    "ans2.reset_index(drop = True, inplace = True)\n",
    "\n",
    "ans2.equals(sol2)"
   ]
  },
  {
   "cell_type": "markdown",
   "metadata": {},
   "source": [
    "### Zadanie 3"
   ]
  },
  {
   "cell_type": "code",
   "execution_count": 14,
   "metadata": {},
   "outputs": [
    {
     "data": {
      "text/plain": [
       "True"
      ]
     },
     "execution_count": 14,
     "metadata": {},
     "output_type": "execute_result"
    }
   ],
   "source": [
    "sol3 = solution_3(Comments, Posts, Users)\n",
    "ans3.equals(sol3)"
   ]
  },
  {
   "cell_type": "markdown",
   "metadata": {},
   "source": [
    "### Zadanie 4"
   ]
  },
  {
   "cell_type": "code",
   "execution_count": 15,
   "metadata": {},
   "outputs": [
    {
     "data": {
      "text/plain": [
       "True"
      ]
     },
     "execution_count": 15,
     "metadata": {},
     "output_type": "execute_result"
    }
   ],
   "source": [
    "sol4 = solution_4(Posts, Users)\n",
    "ans4.equals(sol4) # radzi sobie z None i NaN"
   ]
  },
  {
   "cell_type": "markdown",
   "metadata": {},
   "source": [
    "### Zadanie 5"
   ]
  },
  {
   "cell_type": "code",
   "execution_count": 16,
   "metadata": {},
   "outputs": [
    {
     "data": {
      "text/plain": [
       "True"
      ]
     },
     "execution_count": 16,
     "metadata": {},
     "output_type": "execute_result"
    }
   ],
   "source": [
    "sol5 = solution_5(Posts, Users)\n",
    "ans5.equals(sol5)"
   ]
  }
 ],
 "metadata": {
  "kernelspec": {
   "display_name": "Python 3",
   "language": "python",
   "name": "python3"
  },
  "language_info": {
   "codemirror_mode": {
    "name": "ipython",
    "version": 3
   },
   "file_extension": ".py",
   "mimetype": "text/x-python",
   "name": "python",
   "nbconvert_exporter": "python",
   "pygments_lexer": "ipython3",
   "version": "3.11.5"
  }
 },
 "nbformat": 4,
 "nbformat_minor": 2
}
